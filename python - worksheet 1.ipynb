{
 "cells": [
  {
   "cell_type": "code",
   "execution_count": 11,
   "id": "2354be6a",
   "metadata": {},
   "outputs": [
    {
     "name": "stdout",
     "output_type": "stream",
     "text": [
      "factorial of 7 is 5040\n"
     ]
    }
   ],
   "source": [
    "def factorial(n):\n",
    "    if n < 0:\n",
    "        return 0\n",
    "    elif n == 0 or n == 1:\n",
    "        return 1\n",
    "    else:\n",
    "        fact = 1\n",
    "        while(n > 1):\n",
    "            fact *= n\n",
    "            n -= 1\n",
    "        return fact\n",
    "num = 7\n",
    "print(\"factorial of\",num,\"is\",factorial(num))"
   ]
  },
  {
   "cell_type": "code",
   "execution_count": 1,
   "id": "d28ff48d",
   "metadata": {},
   "outputs": [
    {
     "name": "stdout",
     "output_type": "stream",
     "text": [
      "enter any number : 1\n",
      "1 is neither prime NOR a composite number\n"
     ]
    }
   ],
   "source": [
    "num = int(input(\"enter any number : \"))\n",
    "if num > 1:\n",
    "    for i in range(2,num):\n",
    "        if(num%1) == 0:\n",
    "            print(num, \"is NOT a prime number\")\n",
    "            break\n",
    "        else:\n",
    "            prin(num,\"is a prime number\")\n",
    "elif num == 0 or 1:\n",
    "       print(num,\"is neither prime NOR a composite number\")\n",
    "else:\n",
    "       print(num,\"is NOT a prime numberit is a composite number\")\n",
    "        "
   ]
  },
  {
   "cell_type": "code",
   "execution_count": 3,
   "id": "5376da7f",
   "metadata": {},
   "outputs": [
    {
     "name": "stdout",
     "output_type": "stream",
     "text": [
      "yes\n"
     ]
    }
   ],
   "source": [
    "def ispalindrome(s):\n",
    "    return s == s[::-1]\n",
    "\n",
    "s = \"malayalam\"\n",
    "ans = ispalindrome(s)\n",
    "\n",
    "if ans:\n",
    "    print(\"yes\")\n",
    "else:\n",
    "    print(\"No\")"
   ]
  },
  {
   "cell_type": "code",
   "execution_count": 9,
   "id": "b6b8bdbb",
   "metadata": {},
   "outputs": [
    {
     "name": "stdout",
     "output_type": "stream",
     "text": [
      "hypotenuse =5.0\n",
      "adjacent side =22.0\n",
      "opposite side = 3.0\n",
      "answer!\n"
     ]
    }
   ],
   "source": [
    "def pythagoras(opposite_side,adjacent_side,hypotenuse):\n",
    "    if opposite_side == str(\"x\"):\n",
    "        return (\"opposite side = \" + str(((hypotenuse**2) - (adjacent_side**2))**0.5))\n",
    "    elif adjacent_side == str(\"x\"):\n",
    "        return (\"adjacent side =\" + str((hypotenuse**2) - (opposite_side**2)**0.5))\n",
    "    elif hypotenuse == str(\"x\"):\n",
    "        return (\"hypotenuse =\" + str((opposite_side**2) - (adjacent_side**2)**0.5))\n",
    "    else:\n",
    "        return \"answer!\"\n",
    "    \n",
    "print(pythagoras(3,4,'x'))\n",
    "print(pythagoras(3,'x',5))\n",
    "print(pythagoras('x',4,5))\n",
    "print(pythagoras(3,4,5))"
   ]
  },
  {
   "cell_type": "code",
   "execution_count": 10,
   "id": "aaad2179",
   "metadata": {},
   "outputs": [
    {
     "name": "stdout",
     "output_type": "stream",
     "text": [
      "count of all the characters in vineetsharma is :\n",
      "{'v': 1, 'i': 1, 'n': 1, 'e': 2, 't': 1, 's': 1, 'h': 1, 'a': 2, 'r': 1, 'm': 1}\n"
     ]
    }
   ],
   "source": [
    "test_str = \"vineetsharma\"\n",
    "\n",
    "all_freq = {}\n",
    "\n",
    "for i in test_str:\n",
    "    if i in all_freq:\n",
    "        all_freq [i] += 1\n",
    "    else:\n",
    "        all_freq[i] = 1\n",
    "print(\"count of all the characters in vineetsharma is :\\n\" + str(all_freq))"
   ]
  },
  {
   "cell_type": "code",
   "execution_count": null,
   "id": "e942094e",
   "metadata": {},
   "outputs": [],
   "source": []
  }
 ],
 "metadata": {
  "kernelspec": {
   "display_name": "Python 3 (ipykernel)",
   "language": "python",
   "name": "python3"
  },
  "language_info": {
   "codemirror_mode": {
    "name": "ipython",
    "version": 3
   },
   "file_extension": ".py",
   "mimetype": "text/x-python",
   "name": "python",
   "nbconvert_exporter": "python",
   "pygments_lexer": "ipython3",
   "version": "3.10.9"
  }
 },
 "nbformat": 4,
 "nbformat_minor": 5
}
